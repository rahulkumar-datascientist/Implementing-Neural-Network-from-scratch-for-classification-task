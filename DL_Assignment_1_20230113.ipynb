{
 "cells": [
  {
   "cell_type": "markdown",
   "metadata": {
    "id": "bAeZ1k87H4yk"
   },
   "source": [
    "# Import required Python Libraries"
   ]
  },
  {
   "cell_type": "code",
   "execution_count": 1,
   "metadata": {
    "id": "zW-PAVMUBHEc"
   },
   "outputs": [],
   "source": [
    "import sys\n",
    "import numpy as np\n",
    "import pandas as pd\n",
    "import matplotlib\n",
    "import matplotlib.pyplot as plt\n",
    "from sklearn.metrics import accuracy_score\n",
    "from sklearn import preprocessing\n",
    "from sklearn.model_selection import train_test_split\n",
    "import itertools\n",
    "import operator\n",
    "\n",
    "# Display plots inline and change default figure size\n",
    "from IPython.display import display, clear_output\n",
    "%matplotlib inline\n",
    "\n",
    "import pickle\n",
    "\n",
    "import warnings\n",
    "warnings.filterwarnings(\"ignore\")"
   ]
  },
  {
   "cell_type": "markdown",
   "metadata": {
    "id": "fadQSL0YH4yt"
   },
   "source": [
    "# Function for Hyperparameter Tuning\n",
    "Implemented by Rishi Gupta - (MSc. AI - 20231111)"
   ]
  },
  {
   "cell_type": "code",
   "execution_count": 2,
   "metadata": {
    "id": "1oHDTkSnp9W1"
   },
   "outputs": [],
   "source": [
    "def hyperparameter_tuning(network_type, X, y, threshold, max_iter, alpha,nodes=False):\n",
    "    best_params = {}\n",
    "    if network_type == 'LR': # To check if our neural network is of Logistic Regression type without any hidden layer\n",
    "        for i in itertools.product(max_iter,alpha):\n",
    "            w,b = logisticRegression_NN(X, y,i[0],i[1],threshold)\n",
    "            y_pred = np.round(predict(w, b, X))\n",
    "            acc = round(accuracy_score(y,y_pred)*100,2)\n",
    "            best_params[i] = acc # Create a dictionary with key as the hyperparameters and value as the accuracy of the model for these params\n",
    "        return max(best_params.items(), key=operator.itemgetter(1))[0] # Return best hyperparameters\n",
    "    elif network_type == 'Shallow_NN': # To check if NN is SHallow NN\n",
    "        for i in itertools.product(nodes,max_iter,alpha):\n",
    "            vals = NN(X, y,i[0],i[1],i[2], threshold = 1e-6)\n",
    "            y_pred = np.round(predict_NN(vals, X))\n",
    "            acc = round(accuracy_score(y,y_pred)*100,2)\n",
    "            best_params[i] = acc\n",
    "        return max(best_params.items(), key=operator.itemgetter(1))[0]\n",
    "    else:\n",
    "        print(\"Invalid Choice...\")\n",
    "        return None"
   ]
  },
  {
   "cell_type": "markdown",
   "metadata": {
    "id": "XDQDpC0dBHEi"
   },
   "source": [
    "# Part 1 - Logistic Regression (Neural Network without Hidden Layer)\n",
    "Implemented by Rishi Gupta - (MSc. AI - 20231111)"
   ]
  },
  {
   "cell_type": "markdown",
   "metadata": {
    "id": "voMVwodAH4yu"
   },
   "source": [
    "A Neural Netwrok with an input layer, a single output layer and no hidden layer acts as Logistic Regression model. The main objective of Simple Logistic Regession is to find the best hypothesis or line dividing the classes. Using straight line equation: z(x) = b + w1*x1 + w2*x2 our goal is to fidn the best weights and biase which gives us the closest prediction with our target value.\n",
    "\n",
    "Need to apply an activation function (aka threshold function) to convert straight line equation into 0/1 values for classifier.\n",
    "We have used Sigmoid function as our activation function : 𝑓(𝑧) = 1/(1+power(e,-z) where 𝑓(𝑧) is the sigmoidal or logistic function. We interpret 𝑦hat as the probability that the actual output y is 1, \n",
    "given a set of inputs x: 𝑦hat = P(y=1 | x; w, b).\n",
    "\n",
    "To train a neural network the major taks involved is to find values for weights w and biase b such that the for all training cases the network predicted values are as close as possible to actual y. And to implement this we define a lost function for a single training case as we are using Stochastic Gradient Descent (optimization algorithm) to search for weights and biase that minimises cost for a given training set.\n",
    "\n",
    "We define the Cost function or Log loss as:\n",
    "\n",
    "J(w,b) = ylog(yhat) + (1-y)(log(1-yhat)) where y is actual and yhat is predicted and our goal is to minimize this cost.\n",
    "\n",
    "We run for muliple iterations and at each iteration we randomly select a training case and find the cost for that iteration and if its difference from previous cost is very less we terminate otherwise we find the delta or derivatives of weights and biase and then update the new weights and biase and again iterate till we converge."
   ]
  },
  {
   "cell_type": "code",
   "execution_count": 3,
   "metadata": {
    "id": "PC9e_2cHBHEj"
   },
   "outputs": [],
   "source": [
    "#Sigmoid Activation function\n",
    "def sigmoid(z):\n",
    "    return 1.0 / (1 + np.exp(-z))            # Function to map the predicted values to probabilites\n",
    "\n",
    "def costFunc(y,yhat): # Cost Function to minimize the error(absolute difference between y_actual and y_predicted)\n",
    "        return -1*(y*(np.log(yhat)) + (1 - y)*(np.log(1 - yhat)))\n",
    "    \n",
    "#Neural Network without Hidden layer (Logistic Regression)\n",
    "def logisticRegression_NN(X, y,max_iterations,alpha,threshold): \n",
    "    convergence = False\n",
    "    n = X.shape[1] # No. of feature columns\n",
    "    m = X.shape[0] # No. of rows\n",
    "    # Initialise weights and biases\n",
    "    w = np.random.uniform(0,0.01,n) \n",
    "    b = np.random.rand()\n",
    "    previous_cost = sys.maxsize # Initialise cost variable with max value\n",
    "    for i in range(max_iterations):\n",
    "        # For Stochastic Gradient Descent select row index at random\n",
    "        idx = np.random.randint(m)\n",
    "        xj = X[idx] # Select random index record for feature cols\n",
    "        yj = y[idx] # Select random index record for target col\n",
    "        \n",
    "        #Forward Propogation Stage\n",
    "        z = np.dot(xj,w)+b \n",
    "        yhat = sigmoid(z) # Y predicted\n",
    "        \n",
    "        # Calculate cost suing actual and predicted y\n",
    "        current_cost = costFunc(yj,yhat)\n",
    "        \n",
    "        # If the difference between cost for the current and previous iteration is less than a threshold value need to terminate as global minima reached\n",
    "        if abs(previous_cost-current_cost) < threshold:\n",
    "            convergence = True\n",
    "            break\n",
    "        previous_cost = current_cost\n",
    "        \n",
    "        # Gradient Descent Stage\n",
    "        # Update weights\n",
    "        delta_w = [None] * n\n",
    "        for k in range(n):\n",
    "            delta_w[k] = (yhat-yj)*xj[k]\n",
    "        # Update biase\n",
    "        delta_b = yhat-yj\n",
    "        for l in range(n):\n",
    "            w[l] -= alpha*delta_w[l]\n",
    "        b -= alpha*delta_b\n",
    "    \n",
    "    return w,b"
   ]
  },
  {
   "cell_type": "markdown",
   "metadata": {
    "id": "F-RZi65HDvMa"
   },
   "source": [
    "# Part 2 - Testing the part 1 Logistic Regression model on Moon and Blob dataset\n",
    "Implemented by Rishi Gupta - (MSc. AI - 20231111)"
   ]
  },
  {
   "cell_type": "code",
   "execution_count": 4,
   "metadata": {
    "id": "mKLuWMwEEaBq"
   },
   "outputs": [],
   "source": [
    "#Reading both the datasets\n",
    "df_moon = pd.read_csv(\"moons400.csv\")\n",
    "df_blob = pd.read_csv(\"blobs250.csv\")\n",
    "\n",
    "# splitting both dataset into X features and y class\n",
    "\n",
    "y_moon = df_moon['Class'].values\n",
    "y_blob = df_blob['Class'].values\n",
    "\n",
    "del df_moon['Class']\n",
    "del df_blob['Class']\n",
    "\n",
    "X_moon = df_moon.values\n",
    "X_blob = df_blob.values\n",
    "\n",
    "#PErform normalization\n",
    "X_moon = preprocessing.StandardScaler().fit_transform(X_moon)\n",
    "X_blob = preprocessing.StandardScaler().fit_transform(X_blob)"
   ]
  },
  {
   "cell_type": "code",
   "execution_count": 5,
   "metadata": {
    "colab": {
     "base_uri": "https://localhost:8080/",
     "height": 282
    },
    "id": "kH8uzDhRI-4l",
    "outputId": "dad8fe39-736c-4c5c-f98a-314b5482e47d"
   },
   "outputs": [
    {
     "data": {
      "text/plain": [
       "<matplotlib.collections.PathCollection at 0x1d5fe148e20>"
      ]
     },
     "execution_count": 5,
     "metadata": {},
     "output_type": "execute_result"
    },
    {
     "data": {
      "image/png": "[encoded data removed]",
      "text/plain": [
       "<Figure size 432x288 with 1 Axes>"
      ]
     },
     "metadata": {
      "needs_background": "light"
     },
     "output_type": "display_data"
    }
   ],
   "source": [
    "# moon dataset -------- non - linear\n",
    "plt.scatter(X_moon[:,0], X_moon[:,1], c=y_moon)  \n"
   ]
  },
  {
   "cell_type": "code",
   "execution_count": 6,
   "metadata": {
    "colab": {
     "base_uri": "https://localhost:8080/",
     "height": 282
    },
    "id": "7xqQwaA0EdFl",
    "outputId": "23baa62d-28a7-4054-c289-026930ab2a73"
   },
   "outputs": [
    {
     "data": {
      "text/plain": [
       "<matplotlib.collections.PathCollection at 0x1d5fe203670>"
      ]
     },
     "execution_count": 6,
     "metadata": {},
     "output_type": "execute_result"
    },
    {
     "data": {
      "image/png": "[encoded data removed]",
      "text/plain": [
       "<Figure size 432x288 with 1 Axes>"
      ]
     },
     "metadata": {
      "needs_background": "light"
     },
     "output_type": "display_data"
    }
   ],
   "source": [
    "# blob dataset --------- linear\n",
    "plt.scatter(X_blob[:,0], X_blob[:,1], c=y_blob) "
   ]
  },
  {
   "cell_type": "code",
   "execution_count": 7,
   "metadata": {
    "id": "GmivcdhqlN-I"
   },
   "outputs": [],
   "source": [
    "# Predict function to calculate the predicted value of target variable\n",
    "def predict(w,b, X):\n",
    "    # Calculate the f(x)\n",
    "    z = np.dot(X,w)+b\n",
    "    # Calculate the predicted probability\n",
    "    yhat = sigmoid(z)   \n",
    "    \n",
    "    for a in range(X.shape[0]):\n",
    "        # If the probabiltiy is less than 50% then classify it as class 0 otherwise class 1\n",
    "        if yhat[a] <0.5:\n",
    "            yhat[a] = 0\n",
    "        else:\n",
    "            yhat[a] = 1\n",
    "    \n",
    "    return yhat"
   ]
  },
  {
   "cell_type": "code",
   "execution_count": 8,
   "metadata": {
    "id": "_xzJ4ZFSEhCx"
   },
   "outputs": [],
   "source": [
    "# Splitting datasets into train, validation and test\n",
    "np.random.seed(30)\n",
    "\n",
    "X_train_moon, X_test_moon, y_train_moon, y_test_moon =     \\\n",
    "            train_test_split(X_moon, y_moon, test_size=0.30, random_state=42)\n",
    "\n",
    "X_val_moon, X_test_moon, y_val_moon, y_test_moon =    \\\n",
    "            train_test_split(X_test_moon, y_test_moon, test_size=0.50, random_state=42)\n",
    "\n",
    "\n",
    "X_train_blob, X_test_blob, y_train_blob, y_test_blob =    \\\n",
    "            train_test_split(X_blob, y_blob, test_size=0.30, random_state=42)\n",
    "\n",
    "X_val_blob, X_test_blob, y_val_blob, y_test_blob = \\\n",
    "            train_test_split(X_test_blob, y_test_blob, test_size=0.50, random_state=42)"
   ]
  },
  {
   "cell_type": "code",
   "execution_count": 9,
   "metadata": {
    "id": "u5BU6zpNJoih"
   },
   "outputs": [
    {
     "name": "stdout",
     "output_type": "stream",
     "text": [
      "(500, 0.006)\n"
     ]
    }
   ],
   "source": [
    "#Parameter Tuning\n",
    "alpha = [*np.arange(0.001, 0.02, 0.001)]\n",
    "max_iterations = [*range(500, 20000, 500)]\n",
    "threshold = 1e-6\n",
    "# Pass the list of values for each paramter into hyperparameter function to get best params\n",
    "best_params = hyperparameter_tuning(\"LR\", X_val_moon, y_val_moon, threshold, max_iterations, alpha)\n",
    "print(best_params)"
   ]
  },
  {
   "cell_type": "code",
   "execution_count": 10,
   "metadata": {
    "id": "4nbyoFFREw3o"
   },
   "outputs": [],
   "source": [
    "#Training both datasets\n",
    "max_iterations = 500\n",
    "alpha = 0.006\n",
    "np.random.seed(30)\n",
    "moon_weights,moon_bias = logisticRegression_NN(X_train_moon, y_train_moon,max_iterations,alpha,threshold)\n",
    "blob_weights,blob_bias = logisticRegression_NN(X_train_blob, y_train_blob,max_iterations,alpha,threshold)"
   ]
  },
  {
   "cell_type": "code",
   "execution_count": 11,
   "metadata": {
    "colab": {
     "base_uri": "https://localhost:8080/"
    },
    "id": "dYue9jklDU39",
    "outputId": "a96da39c-cace-48e2-c95c-725dd2625cf1"
   },
   "outputs": [
    {
     "name": "stdout",
     "output_type": "stream",
     "text": [
      "Accuracy on moon training set:  82.14 %\n",
      "Accuracy on moon validation set:  90.0 %\n",
      "Accuracy on moon testing set:  90.0 %\n",
      "\n",
      "Accuracy on blob training set:  100.0 %\n",
      "Accuracy on blob validation set:  100.0 %\n",
      "Accuracy on blob testing set:  100.0 %\n"
     ]
    }
   ],
   "source": [
    "#Testing on both validation and testing\n",
    "\n",
    "# moon training\n",
    "moon_train_pred = np.round(predict(moon_weights, moon_bias, X_train_moon))\n",
    "print(\"Accuracy on moon training set: \", round(accuracy_score(y_train_moon,moon_train_pred)*100,2),\"%\")\n",
    "\n",
    "# predict moon validation set and report accuracy\n",
    "moon_valid_pred = np.round(predict(moon_weights, moon_bias, X_val_moon))\n",
    "print(\"Accuracy on moon validation set: \", round(accuracy_score(y_val_moon,moon_valid_pred)*100,2),\"%\")\n",
    "\n",
    "# predict moon testing set and report accuracy\n",
    "moon_test_pred = np.round(predict(moon_weights, moon_bias, X_test_moon))\n",
    "print(\"Accuracy on moon testing set: \", round(accuracy_score(y_test_moon,moon_test_pred)*100,2),\"%\")\n",
    "\n",
    "\n",
    "\n",
    "# predict blob training set and report accuracy\n",
    "blob_train_pred = np.round(predict(blob_weights, blob_bias, X_train_blob))\n",
    "print(\"\\nAccuracy on blob training set: \", round(accuracy_score(y_train_blob,blob_train_pred)*100,2),\"%\")\n",
    "\n",
    "# predict blob validation set and report accuracy\n",
    "blob_valid_pred = np.round(predict(blob_weights, blob_bias, X_val_blob))\n",
    "print(\"Accuracy on blob validation set: \", round(accuracy_score(y_val_blob,blob_valid_pred)*100,2),\"%\")\n",
    "\n",
    "# predict blob testing set and report accuracy\n",
    "blob_test_pred = np.round(predict(blob_weights, blob_bias, X_test_blob))\n",
    "print(\"Accuracy on blob testing set: \", round(accuracy_score(y_test_blob,blob_test_pred)*100,2),\"%\")\n"
   ]
  },
  {
   "cell_type": "markdown",
   "metadata": {
    "id": "QqM-V-pmBHEm"
   },
   "source": [
    "# Part 3 - Implement Shallow Neural Network\n",
    "\n",
    "Implemented by - Rahul Kumar (MSc. DA - 20230113)"
   ]
  },
  {
   "cell_type": "markdown",
   "metadata": {
    "id": "j3f4qwNQKIjz"
   },
   "source": [
    "Initialise the NN parameters as:\n",
    "- **Input nodes (in)**      : Number of attributes of the train dataset\n",
    "- **Output nodes (on)**     : Set as 1\n",
    "- **Hidden nodes (hn)**     : specified while training\n",
    "- **Layer 1 weights (L1w)** : 2D array of shape(in,hn) [input,hidden node]\n",
    "- **Layer 2 weights (L2w)** : 2D array of shape(hn,on) [hidden,output node]\n",
    "- **Layer 1 bias (L1b)**    : 2D array of shape(1,hn)  [1,hidden node]\n",
    "- **Layer 2 bias (L2b)**    : 2D array of shape(1,on)  [1,output node]\n",
    "\n",
    "used **sigmoid activation fuction** in both the layers to output the values in [0,1] range.\n",
    "\n",
    "Plotting the *loss v/s epoch* for each 5th epoch to visualise the decrease in loss during training.[1][2]\n"
   ]
  },
  {
   "cell_type": "code",
   "execution_count": 12,
   "metadata": {
    "id": "nGPKPqw-BHEm"
   },
   "outputs": [],
   "source": [
    "def sigmoid_NN(z):\n",
    "    return 1.0 / (1 + np.exp(-z))            # Function to map the predicted values to probabilites\n",
    "\n",
    "\n",
    "def derivative_sigmoid_NN(inp):\n",
    "    return inp*(1-inp)\n",
    "\n",
    "def cost_NN(y,yhat):\n",
    "    return -1.0*(y*(np.log(yhat)) + (1 - y)*(np.log(1 - yhat)))\n",
    "    "
   ]
  },
  {
   "cell_type": "code",
   "execution_count": 44,
   "metadata": {
    "id": "AHG7maahBHEm"
   },
   "outputs": [],
   "source": [
    "def NN(X, y,hidden_nodes,max_iterations,alpha,threshold):\n",
    "    input_nodes = X.shape[1]                                              # no. of columns of input dataset X\n",
    "    output_nodes = 1                                                      # no. of output nodes -- fixed at 1 \n",
    "    \n",
    "    # initialise weights going from input_nodes into hidden_nodes\n",
    "    layer_1_weights = np.random.randn(input_nodes,hidden_nodes)*0.001 \n",
    "    \n",
    "    # initialise weights going from hidden_nodes into output_node \n",
    "    layer_2_weights = np.random.randn(hidden_nodes,output_nodes)*0.001             \n",
    "    \n",
    "    layer_1_bias = np.random.randn(hidden_nodes)*0.001            # initialise bias weights going into hidden_nodes  \n",
    "    layer_1_bias = layer_1_bias.reshape(1, hidden_nodes)          # reshape to convert into 2D array\n",
    "  \n",
    "    layer_2_bias = np.random.randn(output_nodes)*0.001            # initialise bias weights going into output_node  \n",
    "    layer_2_bias = layer_2_bias.reshape(1, output_nodes)          # reshape to convert into 2D array\n",
    "  \n",
    "    previous_cost = sys.maxsize                                   # setting initial cost = random value\n",
    "  \n",
    "    i = 0                                                         # setting while loop initial values \n",
    "    convergence = False\n",
    "    epoch = []                                                    # list to store epoch and loss values\n",
    "    loss = []\n",
    "    \n",
    "    fig = plt.figure()                                                             \n",
    "    ax = fig.add_subplot(111)\n",
    "    plt.ion()\n",
    "    ax.plot(epoch, loss, 'ro')\n",
    "    display(fig)\n",
    "  \n",
    "    while(i in range(max_iterations) and convergence != True):\n",
    "        i+=1\n",
    "  \n",
    "        idx = np.random.randint(X.shape[0])                         # select 1 training case at random\n",
    "        xj = X[idx].reshape(1,input_nodes)\n",
    "        yj = y[idx]\n",
    "      \n",
    "        #################### forward propogation step #########################\n",
    "        layer_1_Z = np.dot(xj,layer_1_weights) + layer_1_bias                      # layer 1 Z calculation\n",
    "        layer_1_activation = sigmoid_NN(layer_1_Z)                                 # Activation of layer 1\n",
    "      \n",
    "        layer_2_Z = np.dot(layer_1_activation,layer_2_weights) + layer_2_bias      # layer 2 z calculation\n",
    "        yhat = sigmoid_NN(layer_2_Z)                                             # Activation of layer 2 ~ yhat value\n",
    "\n",
    "        ####################### cost calculation ##############################      \n",
    "        cost = cost_NN(yj, yhat)[0,0]\n",
    "        \n",
    "        if abs(previous_cost - cost) < threshold:                                  # Testing for convergence\n",
    "            convergence = True\n",
    "        previous_cost = cost                                                 # set cost to previous for next iteration \n",
    "      \n",
    "        ####################### back propogation step #########################\n",
    "        # output layer\n",
    "        layer_2_delta_z = yhat - yj\n",
    "        layer_2_delta_weight = np.dot(layer_1_activation.T,layer_2_delta_z)\n",
    "        layer_2_delta_bias = layer_2_delta_z\n",
    "      \n",
    "        # hidden layer\n",
    "        layer_1_delta_z =  np.multiply(np.dot(layer_2_delta_z,layer_2_weights.T),derivative_sigmoid_NN(layer_1_Z))\n",
    "        layer_1_delta_weight = np.dot(xj.T,layer_1_delta_z)\n",
    "        layer_1_delta_bias = layer_1_delta_z\n",
    "      \n",
    "        ################## gradient descent update step #######################\n",
    "        layer_1_weights -= alpha * layer_1_delta_weight\n",
    "        layer_2_weights -= alpha * layer_2_delta_weight\n",
    "      \n",
    "        layer_1_bias -= alpha * layer_1_delta_bias\n",
    "        layer_2_bias -= alpha * layer_2_delta_bias\n",
    "\n",
    "        ################## plot loss vs epoch(every 5th) ######################\n",
    "        if (i % 1250 == 0):      # changed the condition for moon dataset as   i%2000    (400*5)  (total cases*epoch)\n",
    "            epoch.append(i/250)  #                       for blob dataset as   i%1250    (250*5)       \n",
    "            loss.append(cost)                                                       \n",
    "          \n",
    "            ax.cla()\n",
    "            ax.plot(epoch, loss)\n",
    "    \n",
    "            plt.xlim(min(epoch),max(epoch))\n",
    "            plt.ylim(min(loss)-0.25,max(loss)+0.25)\n",
    "            plt.xlabel(\"Epochs\")\n",
    "            plt.ylabel(\"Loss\")\n",
    "    \n",
    "            display(fig)\n",
    "            clear_output(wait=True)\n",
    "\n",
    "    return{ \"layer_1_weights\": layer_1_weights,\n",
    "              \"layer_2_weights\": layer_2_weights,\n",
    "              \"layer_1_bias\"   : layer_1_bias,\n",
    "              \"layer_2_bias\"   : layer_2_bias\n",
    "            }"
   ]
  },
  {
   "cell_type": "code",
   "execution_count": 14,
   "metadata": {
    "id": "TTpn_mMqlVPy"
   },
   "outputs": [],
   "source": [
    "def predict_NN(NN_parameters, X):\n",
    "    layer_1_Z = np.dot(X,NN_parameters[\"layer_1_weights\"]) + NN_parameters[\"layer_1_bias\"]\n",
    "    layer_1_activation = sigmoid_NN(layer_1_Z)                                  \n",
    "        \n",
    "    layer_2_Z = np.dot(layer_1_activation,NN_parameters[\"layer_2_weights\"]) + NN_parameters[\"layer_2_bias\"]\n",
    "    yhat = sigmoid_NN(layer_2_Z)\n",
    "    \n",
    "    for a in range(X.shape[0]):\n",
    "        if yhat[a] <0.5:\n",
    "            yhat[a] = 0\n",
    "        else:\n",
    "            yhat[a] = 1\n",
    "    \n",
    "    return yhat"
   ]
  },
  {
   "cell_type": "markdown",
   "metadata": {
    "id": "yLqOY2UCBHEn"
   },
   "source": [
    "### Testing NN on moon dataset\n",
    "\n",
    "\n"
   ]
  },
  {
   "cell_type": "code",
   "execution_count": 15,
   "metadata": {
    "colab": {
     "base_uri": "https://localhost:8080/",
     "height": 283
    },
    "id": "jDYM1QNEBHEq",
    "outputId": "85240d5f-5ee1-466b-f5cd-22398efc9773"
   },
   "outputs": [
    {
     "data": {
      "image/png": "[encoded data removed]",
      "text/plain": [
       "<Figure size 432x288 with 1 Axes>"
      ]
     },
     "metadata": {
      "needs_background": "light"
     },
     "output_type": "display_data"
    }
   ],
   "source": [
    "np.random.seed(30)\n",
    "moon_NN = NN(X_train_moon, y_train_moon,hidden_nodes = 3,max_iterations = 100000,alpha = 0.008, threshold = 1e-6)"
   ]
  },
  {
   "cell_type": "code",
   "execution_count": 17,
   "metadata": {
    "colab": {
     "base_uri": "https://localhost:8080/"
    },
    "id": "m_eAj8i3SRv-",
    "outputId": "8b4ff205-28b5-4647-aa9c-e2708cdea35d"
   },
   "outputs": [
    {
     "name": "stdout",
     "output_type": "stream",
     "text": [
      "Accuracy on moon training set:  87.86 %\n",
      "Accuracy on moon validation set:  88.33 %\n",
      "Accuracy on moon testing set:  91.67 %\n"
     ]
    }
   ],
   "source": [
    "# moon training\n",
    "moon_train_pred = np.round(predict_NN(moon_NN, X_train_moon))\n",
    "print(\"Accuracy on moon training set: \", round(accuracy_score(y_train_moon,moon_train_pred)*100,2),\"%\")\n",
    "\n",
    "# predict moon validation set and report accuracy\n",
    "moon_valid_pred = np.round(predict_NN(moon_NN, X_val_moon))\n",
    "print(\"Accuracy on moon validation set: \", round(accuracy_score(y_val_moon,moon_valid_pred)*100,2),\"%\")\n",
    "\n",
    "# predict moon testing set and report accuracy\n",
    "moon_test_pred = np.round(predict_NN(moon_NN, X_test_moon))\n",
    "print(\"Accuracy on moon testing set: \", round(accuracy_score(y_test_moon,moon_test_pred)*100,2),\"%\")"
   ]
  },
  {
   "cell_type": "markdown",
   "metadata": {
    "id": "sszPabWKSduI"
   },
   "source": [
    "### Testing NN on blob dataset\n",
    "\n",
    "\n"
   ]
  },
  {
   "cell_type": "code",
   "execution_count": 18,
   "metadata": {
    "colab": {
     "base_uri": "https://localhost:8080/",
     "height": 279
    },
    "id": "SDeLnxRiPo1c",
    "outputId": "29006caa-d595-4485-8b51-384902ac058f"
   },
   "outputs": [
    {
     "data": {
      "image/png": "[encoded data removed]",
      "text/plain": [
       "<Figure size 432x288 with 1 Axes>"
      ]
     },
     "metadata": {
      "needs_background": "light"
     },
     "output_type": "display_data"
    }
   ],
   "source": [
    "np.random.seed(30)\n",
    "blob_NN = NN(X_train_blob, y_train_blob,hidden_nodes = 4,max_iterations = 10000,alpha = 0.05, threshold = 1e-6)"
   ]
  },
  {
   "cell_type": "code",
   "execution_count": 19,
   "metadata": {
    "colab": {
     "base_uri": "https://localhost:8080/"
    },
    "id": "HSL9fqZ6BHEq",
    "outputId": "609643f0-26b4-4d3f-ed4d-bc74d84d9ac9",
    "scrolled": true
   },
   "outputs": [
    {
     "name": "stdout",
     "output_type": "stream",
     "text": [
      "\n",
      "Accuracy on blob training set:  100.0 %\n",
      "Accuracy on blob validation set:  100.0 %\n",
      "Accuracy on blob testing set:  100.0 %\n"
     ]
    }
   ],
   "source": [
    "# predict blob training set and report accuracy\n",
    "blob_train_pred = np.round(predict_NN(blob_NN, X_train_blob))\n",
    "print(\"\\nAccuracy on blob training set: \", round(accuracy_score(y_train_blob,blob_train_pred)*100,2),\"%\")\n",
    "\n",
    "# predict blob validation set and report accuracy\n",
    "blob_valid_pred = np.round(predict_NN(blob_NN, X_val_blob))\n",
    "print(\"Accuracy on blob validation set: \", round(accuracy_score(y_val_blob,blob_valid_pred)*100,2),\"%\")\n",
    "\n",
    "# predict blob testing set and report accuracy\n",
    "blob_test_pred = np.round(predict_NN(blob_NN, X_test_blob))\n",
    "print(\"Accuracy on blob testing set: \", round(accuracy_score(y_test_blob,blob_test_pred)*100,2),\"%\")"
   ]
  },
  {
   "cell_type": "markdown",
   "metadata": {
    "id": "Ss39nNWiKrrf"
   },
   "source": [
    "# Part 4 - CIFAR-10 Dataset - classify Cat and Bird\n",
    "Implemented by Rishi Gupta - (MSc. AI - 20231111)"
   ]
  },
  {
   "cell_type": "code",
   "execution_count": 20,
   "metadata": {
    "id": "vTSeuUUsakad"
   },
   "outputs": [],
   "source": [
    "# This function taken from the CIFAR website\n",
    "\n",
    "def unpickle(file):\n",
    "    with open(file, 'rb') as fo:\n",
    "        dict = pickle.load(fo, encoding='bytes')\n",
    "    return dict"
   ]
  },
  {
   "cell_type": "code",
   "execution_count": 22,
   "metadata": {
    "id": "Fs7RsxIyalDj"
   },
   "outputs": [],
   "source": [
    "def loadbatch(batchname):\n",
    "    folder = 'cifar-10-batches-py'\n",
    "    batch = unpickle(folder+\"/\"+batchname)\n",
    "    return batch"
   ]
  },
  {
   "cell_type": "code",
   "execution_count": 23,
   "metadata": {
    "id": "D7NG7XhIalGR"
   },
   "outputs": [],
   "source": [
    "def loadlabelnames():\n",
    "    folder = 'cifar-10-batches-py'\n",
    "    meta = unpickle(folder+\"/\"+'batches.meta')\n",
    "    return meta[b'label_names']"
   ]
  },
  {
   "cell_type": "code",
   "execution_count": 24,
   "metadata": {
    "id": "TJoSw0RtalJ1"
   },
   "outputs": [],
   "source": [
    "import matplotlib.pyplot as plt\n",
    "\n",
    "def visualise(data, index):\n",
    "    # Given a CIFAR data nparray and the index of an image, display the image.\n",
    "    # Note that the images will be quite fuzzy looking, because they are low res (32x32).\n",
    "\n",
    "    picture = data[index]\n",
    "    # Initially, the data is a 1D array of 3072 pixels; reshape it to a 3D array of 3x32x32 pixels\n",
    "    # Note: after reshaping like this, you could select one colour channel or average them.\n",
    "    picture.shape = (32,32) \n",
    "    picture = np.rot90(picture)\n",
    "    print(picture)\n",
    "    \n",
    "    # Plot.imshow requires the RGB to be the third dimension, not the first, so need to rearrange\n",
    "    # picture = picture.transpose([1, 2, 0])\n",
    "    plt.imshow(picture)\n",
    "    plt.show()"
   ]
  },
  {
   "cell_type": "code",
   "execution_count": 25,
   "metadata": {
    "colab": {
     "base_uri": "https://localhost:8080/"
    },
    "id": "Mo1zktoralMI",
    "outputId": "b87804e5-d47e-4455-d9fb-8d17ad746690"
   },
   "outputs": [
    {
     "name": "stdout",
     "output_type": "stream",
     "text": [
      "Number of items in the batch 1 is 4\n",
      "Number of items in the batch 2 is 4\n",
      "All keys in the batch 1: dict_keys([b'batch_label', b'labels', b'data', b'filenames'])\n",
      "All keys in the batch 2: dict_keys([b'batch_label', b'labels', b'data', b'filenames'])\n"
     ]
    }
   ],
   "source": [
    "batch1 = loadbatch('data_batch_1')\n",
    "print(\"Number of items in the batch 1 is\", len(batch1))\n",
    "batch2 = loadbatch('data_batch_2')\n",
    "print(\"Number of items in the batch 2 is\", len(batch2))\n",
    "\n",
    "# Display all keys, so we can see the ones we want\n",
    "print('All keys in the batch 1:', batch1.keys())\n",
    "print('All keys in the batch 2:', batch2.keys())"
   ]
  },
  {
   "cell_type": "code",
   "execution_count": 26,
   "metadata": {
    "id": "tJ2FPZLFalPF"
   },
   "outputs": [],
   "source": [
    "data1 = batch1[b'data'][:,:1024]\n",
    "data2 = batch2[b'data'][:,:1024]\n",
    "data = np.vstack([data1, data2]) \n",
    "data = data.astype('float32')\n",
    "data /= 255\n",
    "\n",
    "labels1 = np.array(batch1[b'labels'])\n",
    "labels2 = np.array(batch2[b'labels'])\n",
    "labels = np.append(labels1, labels2)\n",
    "\n",
    "names = loadlabelnames()"
   ]
  },
  {
   "cell_type": "code",
   "execution_count": 27,
   "metadata": {
    "colab": {
     "base_uri": "https://localhost:8080/",
     "height": 401
    },
    "id": "bhAAWgg2Axy3",
    "outputId": "0844c3e2-6a4b-4e7f-ca9b-1c278b8ff9a9"
   },
   "outputs": [
    {
     "name": "stdout",
     "output_type": "stream",
     "text": [
      "[[0.30980393 0.2784314  0.2627451  ... 0.3647059  0.5137255  0.56078434]\n",
      " [0.34117648 0.3019608  0.26666668 ... 0.23921569 0.48235294 0.56078434]\n",
      " [0.35686275 0.3764706  0.30980393 ... 0.16470589 0.40392157 0.56078434]\n",
      " ...\n",
      " [0.4117647  0.49019608 0.4509804  ... 0.6039216  0.62352943 0.6392157 ]\n",
      " [0.49411765 0.5686275  0.54509807 ... 0.6117647  0.6117647  0.61960787]\n",
      " [0.6039216  0.54901963 0.54901963 ... 0.6862745  0.64705884 0.6392157 ]]\n"
     ]
    },
    {
     "data": {
      "image/png": "[encoded data removed]",
      "text/plain": [
       "<Figure size 432x288 with 1 Axes>"
      ]
     },
     "metadata": {
      "needs_background": "light"
     },
     "output_type": "display_data"
    },
    {
     "name": "stdout",
     "output_type": "stream",
     "text": [
      "Image 1 : Class is  b'truck'\n"
     ]
    }
   ],
   "source": [
    "# Display a few images from the batch\n",
    "for i in range (1,2):\n",
    "   visualise(data, i)\n",
    "   print(\"Image\", i,\": Class is \", names[labels[i]])"
   ]
  },
  {
   "cell_type": "code",
   "execution_count": 28,
   "metadata": {
    "id": "Uwul80rPfJmF"
   },
   "outputs": [],
   "source": [
    "# Read the data and labels into dataframe for pre-processing\n",
    "df = pd.DataFrame(data)\n",
    "df['Class'] = labels"
   ]
  },
  {
   "cell_type": "code",
   "execution_count": 29,
   "metadata": {
    "id": "KR2qylTofV80"
   },
   "outputs": [],
   "source": [
    "df['Class'] = df['Class'].astype('int') # Convert labels type as integer\n",
    "\n",
    "df = df.loc[df['Class'].isin([2,3])] # Filter out the records whose label is not 2 or 3 as we need to train for cat and bird\n",
    "\n",
    "di = {2: 0, 3: 1} # Convert labels int class 0 and 1\n",
    "\n",
    "df.replace({\"Class\": di}, inplace=True)\n",
    "\n",
    "# splitting both dataset into X features and y class\n",
    "\n",
    "y = df['Class'].values\n",
    "\n",
    "del df['Class']\n",
    "\n",
    "X = df.values"
   ]
  },
  {
   "cell_type": "code",
   "execution_count": 30,
   "metadata": {
    "colab": {
     "base_uri": "https://localhost:8080/"
    },
    "id": "hZtqrBFRElWk",
    "outputId": "08e45bee-332e-4a7b-8bd1-84670d8c40a9"
   },
   "outputs": [
    {
     "data": {
      "text/plain": [
       "(4053, 1024)"
      ]
     },
     "execution_count": 30,
     "metadata": {},
     "output_type": "execute_result"
    }
   ],
   "source": [
    "X.shape"
   ]
  },
  {
   "cell_type": "code",
   "execution_count": 31,
   "metadata": {
    "id": "BGff0xcRMn9k"
   },
   "outputs": [],
   "source": [
    "np.random.seed(30)\n",
    "\n",
    "X_train_images, X_test_images, y_train_images, y_test_images =     \\\n",
    "            train_test_split(X, y, test_size=0.30, random_state=42)\n",
    "\n",
    "X_val_images, X_test_images, y_val_images, y_test_images =    \\\n",
    "            train_test_split(X_test_images, y_test_images, test_size=0.50, random_state=42)\n",
    "\n"
   ]
  },
  {
   "cell_type": "code",
   "execution_count": 33,
   "metadata": {
    "id": "L73oBKlwhT7n"
   },
   "outputs": [],
   "source": [
    "# train image dataset\n",
    "np.random.seed(30)\n",
    "image_NN = NN(X_train_images, y_train_images, hidden_nodes = 100,max_iterations = 150500,alpha = 0.001, \n",
    "              threshold = 1e-6)"
   ]
  },
  {
   "cell_type": "code",
   "execution_count": 34,
   "metadata": {
    "colab": {
     "base_uri": "https://localhost:8080/"
    },
    "id": "6tJysqima22L",
    "outputId": "9e09eaf6-60e9-4c5d-d0b7-8b8fdce6f545"
   },
   "outputs": [
    {
     "name": "stdout",
     "output_type": "stream",
     "text": [
      "Accuracy on Image training set:  60.66 %\n",
      "Accuracy on Image validation set:  58.72 %\n",
      "Accuracy on Image testing set:  59.05 %\n"
     ]
    }
   ],
   "source": [
    "# Image training\n",
    "images_train_pred = np.round(predict_NN(image_NN, X_train_images))\n",
    "print(\"Accuracy on Image training set: \", round(accuracy_score(y_train_images,images_train_pred)*100,2),\"%\")\n",
    "\n",
    "# predict Image validation set and report accuracy\n",
    "images_valid_pred = np.round(predict_NN(image_NN, X_val_images))\n",
    "print(\"Accuracy on Image validation set: \", round(accuracy_score(y_val_images,images_valid_pred)*100,2),\"%\")\n",
    "\n",
    "# predict Image testing set and report accuracy\n",
    "images_test_pred = np.round(predict_NN(image_NN, X_test_images))\n",
    "print(\"Accuracy on Image testing set: \", round(accuracy_score(y_test_images,images_test_pred)*100,2),\"%\")\n",
    "\n"
   ]
  },
  {
   "cell_type": "markdown",
   "metadata": {
    "id": "9f6LhIGWIQzU"
   },
   "source": [
    "# Part 5 - Rahul's Enhancement\n",
    "(MSc. DA - 20230113)"
   ]
  },
  {
   "cell_type": "markdown",
   "metadata": {
    "id": "VLdUw3calWNs"
   },
   "source": [
    "- Using **ReLU as activation function in the hidden layer and Sigmoid activation for output layer**\n",
    "- Tried mini-Batched gradient descent - The cost was tending to 0 too fast for any parameter setting. Thus implemented **Batch Gradiend descent**.\n",
    "- Increased the no. of **epoch for training to 2000**, as the model is having 1 hidden layer needs many epochs to train efficiently.\n",
    "- If increasing the no. of epoch > 2000, only training accuracy is increasing, the model is overfitting as the accuracy on validation and testing is not increasing after this.\n",
    "- plotting *loss v/s epoch* every 100th epoch.\n"
   ]
  },
  {
   "cell_type": "code",
   "execution_count": 35,
   "metadata": {
    "id": "Yt59g3pmV5TH"
   },
   "outputs": [],
   "source": [
    "def relu(z):\n",
    "    return np.maximum(0,z)                  #Return maximum of 0 and input - ReLU\n",
    "\n",
    "def derivative_relu(z):\n",
    "    return np.where(z >= 0, 1, 0)          #Return derivative of ReLU\n",
    "\n",
    "def new_cost(y,yhat):\n",
    "    #Return the cost\n",
    "    return np.sum(-1.0*(y*(np.log(yhat)) + (1 - y)*(np.log(1 - yhat))))/2\n",
    "    # return np.sum(np.square(yhat - y)) /2"
   ]
  },
  {
   "cell_type": "code",
   "execution_count": 38,
   "metadata": {
    "id": "wk5YYlW_YI92"
   },
   "outputs": [],
   "source": [
    "def enhanced_NN2(X, y, hidden_nodes, epochs, alpha, threshold):\n",
    "    input_nodes = X.shape[1]                                        # no. of cols of X\n",
    "    output_nodes = 1                                                # no. of output nodes \n",
    "    \n",
    "    #initialise weights going from input_nodes into hidden_nodes\n",
    "    layer_1_weights = np.random.randn(input_nodes,hidden_nodes)*0.001\n",
    "    \n",
    "    #initialise weights going from hidden_nodes into output_node \n",
    "    layer_2_weights = np.random.randn(hidden_nodes,output_nodes)*0.001\n",
    "    \n",
    "    #initialise bias weights going into hidden_nodes  \n",
    "    layer_1_bias = np.random.randn(hidden_nodes)*0.001\n",
    "    layer_1_bias = layer_1_bias.reshape(1, hidden_nodes)\n",
    "    \n",
    "    #initialise bias weights going into output_node  \n",
    "    layer_2_bias = np.random.randn(output_nodes)*0.001\n",
    "    layer_2_bias = layer_2_bias.reshape(1, output_nodes)\n",
    "    \n",
    "    previous_cost = sys.maxsize                                     # setting initial cost = random value\n",
    "  \n",
    "    # setting while loop initial values \n",
    "    i = 0\n",
    "    convergence = False\n",
    "    epoch = []\n",
    "    loss = []\n",
    "    \n",
    "    fig = plt.figure()\n",
    "    ax = fig.add_subplot(111)\n",
    "    plt.ion()\n",
    "    ax.plot(epoch, loss, 'ro')\n",
    "    display(fig)\n",
    "\n",
    "    while(i in range(epochs) and convergence != True):\n",
    "        i+=1\n",
    "\n",
    "        xj = X\n",
    "        yj = y\n",
    "        yj = yj.reshape(len(yj),1)\n",
    "\n",
    "        ####################### forward propogation step #######################\n",
    "        layer_1_Z = np.dot(xj,layer_1_weights) + layer_1_bias                       # layer 1 Z calculation\n",
    "        layer_1_activation = relu(layer_1_Z)                                        # Activation of layer 1\n",
    "        \n",
    "        layer_2_Z = np.dot(layer_1_activation,layer_2_weights) + layer_2_bias       # layer 2 z calculation\n",
    "        yhat = sigmoid_NN(layer_2_Z)                                           # Activation of layer 2 ~ yhat value\n",
    "\n",
    "        ########################## cost calculation ############################    \n",
    "        cost = new_cost(yj, yhat)\n",
    "\n",
    "        if abs(previous_cost - cost) < threshold:                                   # Testing for convergence\n",
    "            convergence = True\n",
    "      \n",
    "        previous_cost = cost                                              # set cost to previous for next iteration \n",
    "    \n",
    "        ####################### back propogation step ##########################\n",
    "        # output layer\n",
    "        error = yhat - yj\n",
    "        layer_2_delta_z = np.multiply(error,derivative_sigmoid_NN(yhat))\n",
    "        layer_2_delta_weight = np.dot(layer_1_activation.T,layer_2_delta_z)\n",
    "        layer_2_delta_bias = np.sum(layer_2_delta_z,axis=0,keepdims=True)\n",
    "        \n",
    "        # hidden layer\n",
    "        layer_1_delta_z =  np.multiply(np.dot(layer_2_delta_z,layer_2_weights.T),derivative_relu(layer_1_Z))\n",
    "        layer_1_delta_weight = np.dot(xj.T,layer_1_delta_z)\n",
    "        layer_1_delta_bias = np.sum(layer_1_delta_z,axis=0,keepdims=True)\n",
    "        \n",
    "        ################## gradient descent update step ########################\n",
    "        layer_1_weights -= alpha * layer_1_delta_weight\n",
    "        layer_2_weights -= alpha * layer_2_delta_weight\n",
    "    \n",
    "        layer_1_bias -= alpha * layer_1_delta_bias\n",
    "        layer_2_bias -= alpha * layer_2_delta_bias\n",
    "\n",
    "        ##################### plot loss vs epoch ###############################\n",
    "        if (i % 100 == 0):                                                      # every 100th epoch\n",
    "            epoch.append(i)\n",
    "            loss.append(cost)\n",
    "        \n",
    "            ax.cla()\n",
    "            ax.plot(epoch, loss)\n",
    "  \n",
    "            plt.xlim(min(epoch),max(epoch))\n",
    "            plt.ylim(min(loss)-0.25,max(loss)+0.25)\n",
    "            plt.xlabel(\"Epochs\")\n",
    "            plt.ylabel(\"Loss\")\n",
    "  \n",
    "            display(fig)\n",
    "            clear_output(wait=True)\n",
    "\n",
    "    return{ \"layer_1_weights\": layer_1_weights,\n",
    "            \"layer_2_weights\": layer_2_weights,\n",
    "            \"layer_1_bias\"   : layer_1_bias,\n",
    "           \"layer_2_bias\"   : layer_2_bias}"
   ]
  },
  {
   "cell_type": "code",
   "execution_count": 39,
   "metadata": {
    "id": "jGGOn__CPxDX"
   },
   "outputs": [],
   "source": [
    "def predict_NN2(NN_parameters, X):\n",
    "    layer_1_Z = np.dot(X,NN_parameters[\"layer_1_weights\"]) + NN_parameters[\"layer_1_bias\"]\n",
    "    layer_1_activation = relu(layer_1_Z)                                  \n",
    "        \n",
    "    layer_2_Z = np.dot(layer_1_activation,NN_parameters[\"layer_2_weights\"]) + NN_parameters[\"layer_2_bias\"]\n",
    "    yhat = sigmoid_NN(layer_2_Z)\n",
    "    \n",
    "    for a in range(X.shape[0]):\n",
    "        if yhat[a] <0.5:\n",
    "            yhat[a] = 0\n",
    "        else:\n",
    "            yhat[a] = 1\n",
    "    \n",
    "    return yhat"
   ]
  },
  {
   "cell_type": "code",
   "execution_count": 40,
   "metadata": {
    "colab": {
     "base_uri": "https://localhost:8080/"
    },
    "id": "CUeX31unym9_",
    "outputId": "114fbd0c-290a-41e0-f399-ebd4831fa3a1"
   },
   "outputs": [
    {
     "data": {
      "image/png": "[encoded data removed]",
      "text/plain": [
       "<Figure size 432x288 with 1 Axes>"
      ]
     },
     "metadata": {
      "needs_background": "light"
     },
     "output_type": "display_data"
    }
   ],
   "source": [
    "# train image dataset\n",
    "np.random.seed(30)\n",
    "image_NN21 = enhanced_NN2(X_train_images, y_train_images, hidden_nodes = 100, epochs = 2000,\n",
    "                          alpha = 0.0001, threshold = 1e-6)"
   ]
  },
  {
   "cell_type": "code",
   "execution_count": 41,
   "metadata": {
    "colab": {
     "base_uri": "https://localhost:8080/"
    },
    "id": "f15Bek4x6bSJ",
    "outputId": "d234b622-486d-4278-8087-9af10df8dc6f"
   },
   "outputs": [
    {
     "name": "stdout",
     "output_type": "stream",
     "text": [
      "Accuracy on Image training set:  75.19 %\n",
      "Accuracy on Image validation set:  68.42 %\n",
      "Accuracy on Image testing set:  69.41 %\n"
     ]
    }
   ],
   "source": [
    "# Image training\n",
    "images_train_pred = np.round(predict_NN2(image_NN21, X_train_images))\n",
    "print(\"Accuracy on Image training set: \", round(accuracy_score(y_train_images,images_train_pred)*100,2),\"%\")\n",
    "\n",
    "# predict Image validation set and report accuracy\n",
    "images_valid_pred = np.round(predict_NN2(image_NN21, X_val_images))\n",
    "print(\"Accuracy on Image validation set: \", round(accuracy_score(y_val_images,images_valid_pred)*100,2),\"%\")\n",
    "\n",
    "# predict Image testing set and report accuracy\n",
    "images_test_pred = np.round(predict_NN2(image_NN21, X_test_images))\n",
    "print(\"Accuracy on Image testing set: \", round(accuracy_score(y_test_images,images_test_pred)*100,2),\"%\")\n",
    "\n"
   ]
  },
  {
   "cell_type": "markdown",
   "metadata": {
    "id": "o8DhXUwkbu9R"
   },
   "source": [
    "# Part 5 - Rishi Enhancement\n",
    "(MSc. AI - 20231111)"
   ]
  },
  {
   "cell_type": "markdown",
   "metadata": {
    "id": "X0CSC5O5H4y9"
   },
   "source": [
    "For Enhancement part performed Data Augmentation and implemented Adam optimizer.\n",
    "\n",
    "Data Augmentation is an enhancement technique in Deep Learning which prevents o verfitting of a model. The bets way to implement this is to train with more data. Its a technique to create fake data from original by cropping, rotating, flipping, etc. In this I have rotated and flipped all training images to prevent overfitting."
   ]
  },
  {
   "cell_type": "code",
   "execution_count": 45,
   "metadata": {
    "id": "IiEG-6RTa3Qp"
   },
   "outputs": [],
   "source": [
    "def augment(data, index,labels):\n",
    "    augmented_data = []\n",
    "    augmented_class = []\n",
    "    picture = data[index]\n",
    "    # Initially, the data is a 1D array of 3072 pixels; reshape it to a 3D array of 32x32 pixels\n",
    "    picture.shape = (32,32) \n",
    "    augmented_data.append(np.rot90(picture))\n",
    "    augmented_class.append(labels[index])\n",
    "    augmented_data.append(np.fliplr(picture))\n",
    "    augmented_class.append(labels[index])\n",
    "    augmented_data = np.array(augmented_data)\n",
    "    augmented_data = augmented_data.reshape(2,1024)\n",
    "    augmented_class = np.array(augmented_class)\n",
    "    \n",
    "    return augmented_data,augmented_class"
   ]
  },
  {
   "cell_type": "code",
   "execution_count": 46,
   "metadata": {
    "id": "6Vl5qaS2a3T9"
   },
   "outputs": [],
   "source": [
    "# Display a few images from the batch\n",
    "for i in range(len(data)):\n",
    "    augmented_data, augmented_class = augment(X_train_images, i,y_train_images)\n",
    "    X_train_images = np.vstack ((X_train_images, augmented_data) )\n",
    "    y_train_images = np.append(y_train_images,augmented_class)"
   ]
  },
  {
   "cell_type": "markdown",
   "metadata": {
    "id": "MP7oqQa5H4y-"
   },
   "source": [
    "In this part I have tried to implement Adam optimizer which is an algorithm for optimization which is an extension to Stochastic gradient decent and can be used in place of classical stochastic gradient descent to update network weights more efficiently. There are two separate β parameters:β1 for “velocity” moving average β2 for “acceleration” moving average which control the momentum andd they are exponential decay rates for the moment estiamtes."
   ]
  },
  {
   "cell_type": "code",
   "execution_count": 47,
   "metadata": {
    "id": "_gSfSnm8gt-l"
   },
   "outputs": [],
   "source": [
    "#variable number of output nodes\n",
    "\n",
    "def enhanced_NN(X, y,hidden_nodes,max_iterations,alpha,threshold,optimizer,decay_rate_1=False,decay_rate_2=False,epsilon = 1e-8):\n",
    "    input_nodes = X.shape[1]                                        # no. of cols of X\n",
    "    output_nodes = 1                                                # no. of output nodes \n",
    "    layer_1_velocity_w = 0\n",
    "    layer_2_velocity_w = 0\n",
    "    layer_1_acceleration_w = 0\n",
    "    layer_2_acceleration_w = 0\n",
    "    layer_1_velocity_b = 0\n",
    "    layer_2_velocity_b = 0\n",
    "    layer_1_acceleration_b = 0\n",
    "    layer_2_acceleration_b = 0\n",
    "    #initialise weights going from input_nodes into hidden_nodes\n",
    "    layer_1_weights = np.random.randn(input_nodes,hidden_nodes)*0.001\n",
    "\n",
    "    #initialise weights going from hidden_nodes into output_node \n",
    "    layer_2_weights = np.random.randn(hidden_nodes,output_nodes)*0.001\n",
    "\n",
    "    #initialise bias weights going into hidden_nodes  \n",
    "    layer_1_bias = np.random.randn(hidden_nodes)*0.001\n",
    "    layer_1_bias = layer_1_bias.reshape(1, hidden_nodes)\n",
    "\n",
    "    #initialise bias weights going into output_node  \n",
    "    layer_2_bias = np.random.randn(output_nodes)*0.001\n",
    "    layer_2_bias = layer_2_bias.reshape(1, output_nodes)\n",
    "\n",
    "    previous_cost = sys.maxsize                                     # setting initial cost = random value\n",
    "\n",
    "    # setting while loop initial values \n",
    "    i = 0\n",
    "    time_step = 0\n",
    "    convergence = False\n",
    "\n",
    "    while(i in range(max_iterations) and convergence != True):\n",
    "\n",
    "        i+=1\n",
    "        idx = np.random.randint(X.shape[0])                             # select 1 training case at random\n",
    "        xj = X[idx].reshape(1,input_nodes)\n",
    "        yj = y[idx]\n",
    "\n",
    "        #forward propogation step\n",
    "        layer_1_Z = np.dot(xj,layer_1_weights) + layer_1_bias      #layer 1 Z calculation\n",
    "        layer_1_activation = sigmoid_NN(layer_1_Z)                                  # Activation of layer 1\n",
    "\n",
    "        layer_2_Z = np.dot(layer_1_activation,layer_2_weights) + layer_2_bias  # layer 2 z calculation\n",
    "        yhat = sigmoid_NN(layer_2_Z)                                                # Activation of layer 2 ~ yhat value\n",
    "\n",
    "        cost = cost_NN(yj, yhat)[0,0]\n",
    "\n",
    "        if abs(previous_cost - cost) < threshold:                       # Testing for convergence\n",
    "            # print(convergence)\n",
    "            convergence = True\n",
    "        previous_cost = cost                                            # set cost to previous for next iteration \n",
    "\n",
    "\n",
    "        #back propogation step\n",
    "        # output layer\n",
    "        layer_2_delta_z = yhat - yj\n",
    "        layer_2_delta_weight = np.dot(layer_1_activation.T,layer_2_delta_z)\n",
    "        layer_2_delta_bias = layer_2_delta_z\n",
    "\n",
    "        # hidden layer\n",
    "        layer_1_delta_z =  np.multiply(np.dot(layer_2_delta_z,layer_2_weights.T),derivative_sigmoid_NN(layer_1_Z))\n",
    "        layer_1_delta_weight = np.dot(xj.T,layer_1_delta_z)\n",
    "        layer_1_delta_bias = layer_1_delta_z\n",
    "        if optimizer == 'sgd':\n",
    "            #gradient descent update step\n",
    "            layer_1_weights -= alpha * layer_1_delta_weight\n",
    "            layer_2_weights -= alpha * layer_2_delta_weight\n",
    "\n",
    "            layer_1_bias -= alpha * layer_1_delta_bias\n",
    "            layer_2_bias -= alpha * layer_2_delta_bias\n",
    "\n",
    "        if optimizer == 'adam':\n",
    "            # Gradients for each layer\n",
    "            w2 = layer_1_activation.dot(layer_2_delta_weight)\n",
    "            w1 = xj.dot(layer_1_delta_weight)\n",
    "            b2 = layer_1_activation.T.dot(layer_2_delta_bias)\n",
    "            b1 = xj.T.dot(layer_1_delta_bias)\n",
    "\n",
    "            time_step += 1 # Increment Time Step\n",
    "            # Weights\n",
    "            # Computing 1st and 2nd moment for each layer\n",
    "            layer_2_velocity_w = layer_2_velocity_w * decay_rate_1 + (1- decay_rate_1) * w2\n",
    "            layer_1_velocity_w = layer_1_velocity_w * decay_rate_1 + (1- decay_rate_1) * w1\n",
    "\n",
    "            layer_2_acceleration_w = layer_2_acceleration_w * decay_rate_2 + (1- decay_rate_2) * (w2 ** 2)\n",
    "            layer_1_acceleration_w = layer_1_acceleration_w * decay_rate_2 + (1- decay_rate_2) * (w1 ** 2)\n",
    "\n",
    "            layer_2_velocity_corrected_w = layer_2_velocity_w / (1-(decay_rate_1 ** time_step))\n",
    "            layer_2_acceleration_corrected_w = layer_2_acceleration_w / (1-(decay_rate_2 ** time_step))\n",
    "\n",
    "            # Computing bias-corrected moment\n",
    "            layer_1_velocity_corrected_w = layer_1_velocity_w / (1-(decay_rate_1 ** time_step))\n",
    "            layer_1_acceleration_corrected_w = layer_1_acceleration_w / (1-(decay_rate_2 ** time_step))\n",
    "\n",
    "            # Update Weights\n",
    "            layer_2_weights_update = layer_2_velocity_corrected_w / (np.sqrt(layer_2_acceleration_corrected_w) + epsilon)\n",
    "            layer_1_weights_update = layer_1_velocity_corrected_w / (np.sqrt(layer_1_acceleration_corrected_w) + epsilon)\n",
    "\n",
    "            # Update Biases\n",
    "            layer_2_weights_update = layer_2_velocity_corrected_w / (np.sqrt(layer_2_acceleration_corrected_w) + epsilon)\n",
    "            layer_1_weights_update = layer_1_velocity_corrected_w / (np.sqrt(layer_1_acceleration_corrected_w) + epsilon)\n",
    "\n",
    "            layer_2_weights -= (alpha * layer_2_weights_update)\n",
    "            layer_1_weights -= (alpha * layer_1_weights_update)\n",
    "\n",
    "\n",
    "            # Biases\n",
    "            # Computing 1st and 2nd moment for each layer\n",
    "            layer_2_velocity_b = layer_2_velocity_b * decay_rate_1 + (1- decay_rate_1) * b2\n",
    "            layer_1_velocity_b = layer_1_velocity_b * decay_rate_1 + (1- decay_rate_1) * b1\n",
    "\n",
    "            layer_2_acceleration_b = layer_2_acceleration_b * decay_rate_2 + (1- decay_rate_2) * (b2 ** 2)\n",
    "            layer_1_acceleration_b = layer_1_acceleration_b * decay_rate_2 + (1- decay_rate_2) * (b1 ** 2)\n",
    "\n",
    "            layer_2_velocity_corrected_b = layer_2_velocity_b / (1-(decay_rate_1 ** time_step))\n",
    "            layer_2_acceleration_corrected_b = layer_2_acceleration_b / (1-(decay_rate_2 ** time_step))\n",
    "\n",
    "            # Computing bias-corrected moment\n",
    "            layer_1_velocity_corrected_b = layer_1_velocity_b / (1-(decay_rate_1 ** time_step))\n",
    "            layer_1_acceleration_corrected_b = layer_1_acceleration_b / (1-(decay_rate_2 ** time_step))\n",
    "\n",
    "            #Update Biases\n",
    "            layer_2_biase_update = layer_2_velocity_corrected_b / (np.sqrt(layer_2_acceleration_corrected_b) + epsilon)\n",
    "            layer_1_biase_update = layer_1_velocity_corrected_b / (np.sqrt(layer_1_acceleration_corrected_b) + epsilon)\n",
    "            layer_2_bias -= (alpha * layer_2_biase_update[0])\n",
    "            layer_1_bias -= (alpha * layer_1_biase_update[0])\n",
    "\n",
    "    return{ \"layer_1_weights\": layer_1_weights,\n",
    "            \"layer_2_weights\": layer_2_weights,\n",
    "            \"layer_1_bias\"   : layer_1_bias,\n",
    "            \"layer_2_bias\"   : layer_2_bias\n",
    "          }   "
   ]
  },
  {
   "cell_type": "code",
   "execution_count": 50,
   "metadata": {
    "id": "LtGvJWwySy43"
   },
   "outputs": [],
   "source": [
    "# train image dataset\n",
    "np.random.seed(30)\n",
    "enhanced_image_NN = enhanced_NN(X_train_images, y_train_images, hidden_nodes = 10,max_iterations = 150500,alpha = 0.001, threshold = 1e-6,optimizer=\"adam\",decay_rate_1=0.9,decay_rate_2=0.999,epsilon = 1e-8)"
   ]
  },
  {
   "cell_type": "code",
   "execution_count": 51,
   "metadata": {
    "colab": {
     "base_uri": "https://localhost:8080/"
    },
    "id": "CN0D9RwPguBt",
    "outputId": "4158ba9d-33d1-480b-d4a3-ad8d68277b65"
   },
   "outputs": [
    {
     "name": "stdout",
     "output_type": "stream",
     "text": [
      "Accuracy on Image training set:  49.63 %\n",
      "Accuracy on Image validation set:  50.99 %\n",
      "Accuracy on Image testing set:  49.01 %\n"
     ]
    }
   ],
   "source": [
    "\n",
    "# Image training\n",
    "images_train_pred = np.round(predict_NN(enhanced_image_NN, X_train_images))\n",
    "print(\"Accuracy on Image training set: \", round(accuracy_score(y_train_images,images_train_pred)*100,2),\"%\")\n",
    "\n",
    "# predict Image validation set and report accuracy\n",
    "images_valid_pred = np.round(predict_NN(enhanced_image_NN, X_val_images))\n",
    "print(\"Accuracy on Image validation set: \", round(accuracy_score(y_val_images,images_valid_pred)*100,2),\"%\")\n",
    "\n",
    "# predict Image testing set and report accuracy\n",
    "images_test_pred = np.round(predict_NN(enhanced_image_NN, X_test_images))\n",
    "print(\"Accuracy on Image testing set: \", round(accuracy_score(y_test_images,images_test_pred)*100,2),\"%\")\n",
    "\n"
   ]
  },
  {
   "cell_type": "markdown",
   "metadata": {
    "id": "4gWD-ncGKPqq"
   },
   "source": [
    "# References\n",
    "\n",
    "- [1] ipynb notebook on linear regression by Prof. Michael Madden in CT4101\n",
    "- [2] https://matrices.io/deep-neural-network-from-scratch/\n",
    "- http://ufldl.stanford.edu/tutorial/supervised/MultiLayerNeuralNetworks/\n",
    "- https://machinelearningmastery.com/learning-rate-for-deep-learning-neural-networks/\n",
    "- https://machinelearningmastery.com/rectified-linear-activation-function-for-deep-learning-neural-networks/\n",
    "- CIFR dataset : https://www.cs.toronto.edu/~kriz/cifar.html\n"
   ]
  },
  {
   "cell_type": "code",
   "execution_count": null,
   "metadata": {},
   "outputs": [],
   "source": []
  }
 ],
 "metadata": {
  "colab": {
   "collapsed_sections": [],
   "name": "Assignment_1_V1_2_final.ipynb",
   "provenance": []
  },
  "kernelspec": {
   "display_name": "Python 3",
   "language": "python",
   "name": "python3"
  },
  "language_info": {
   "codemirror_mode": {
    "name": "ipython",
    "version": 3
   },
   "file_extension": ".py",
   "mimetype": "text/x-python",
   "name": "python",
   "nbconvert_exporter": "python",
   "pygments_lexer": "ipython3",
   "version": "3.8.3"
  }
 },
 "nbformat": 4,
 "nbformat_minor": 1
}
